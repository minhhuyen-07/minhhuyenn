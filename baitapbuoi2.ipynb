{
  "nbformat": 4,
  "nbformat_minor": 0,
  "metadata": {
    "colab": {
      "provenance": []
    },
    "kernelspec": {
      "name": "python3",
      "display_name": "Python 3"
    },
    "language_info": {
      "name": "python"
    }
  },
  "cells": [
    {
      "cell_type": "code",
      "execution_count": 1,
      "metadata": {
        "colab": {
          "base_uri": "https://localhost:8080/"
        },
        "id": "b2cMeJKxBlC2",
        "outputId": "b9948d55-3ac0-4c77-c266-e364733da244"
      },
      "outputs": [
        {
          "output_type": "stream",
          "name": "stdout",
          "text": [
            "2\n"
          ]
        }
      ],
      "source": [
        "#W1A1\n",
        "a = 7\n",
        "b = 5\n",
        "c = a - b\n",
        "print(c)"
      ]
    },
    {
      "cell_type": "markdown",
      "metadata": {
        "id": "7f3ecee7"
      },
      "source": [
        "Đoạn mã này thực hiện một phép trừ đơn giản:\n",
        "- Nó khởi tạo một biến `a` với giá trị 7.\n",
        "- Nó khởi tạo một biến `b` với giá trị 5.\n",
        "- Nó tính hiệu giữa `a` và `b`, lưu kết quả vào biến `c`.\n",
        "- Cuối cùng, nó in giá trị của `c`, là 2."
      ]
    },
    {
      "cell_type": "code",
      "source": [
        "#W1A2\n",
        "city = \"Hà Nội\"\n",
        "year = 2025\n",
        "print(\"Thành phố: \", city, \" - Năm: \", year)"
      ],
      "metadata": {
        "colab": {
          "base_uri": "https://localhost:8080/"
        },
        "id": "ZMsx3HeJD8hs",
        "outputId": "ec814264-32bf-4daf-9693-d7b75cc5a5b8"
      },
      "execution_count": 2,
      "outputs": [
        {
          "output_type": "stream",
          "name": "stdout",
          "text": [
            "Thành phố:  Hà Nội  - Năm:  2025\n"
          ]
        }
      ]
    },
    {
      "cell_type": "markdown",
      "metadata": {
        "id": "abea39d0"
      },
      "source": [
        "Đoạn mã này khởi tạo một biến chuỗi `city` với giá trị \"Hà Nội\" và một biến số nguyên `year` với giá trị 2025. Sau đó, nó in ra một chuỗi đã định dạng kết hợp hai biến này, cho kết quả \"Thành phố: Hà Nội - Năm: 2025\"."
      ]
    },
    {
      "cell_type": "code",
      "source": [
        "#W1A3\n",
        "n = 4\n",
        "t = 0\n",
        "for i in range(1, n+1):\n",
        "    t += i\n",
        "print(t)"
      ],
      "metadata": {
        "colab": {
          "base_uri": "https://localhost:8080/"
        },
        "id": "5nMS0rdjFA6p",
        "outputId": "3c64ac38-9d2f-4d52-ff39-53b92220440d"
      },
      "execution_count": 4,
      "outputs": [
        {
          "output_type": "stream",
          "name": "stdout",
          "text": [
            "10\n"
          ]
        }
      ]
    },
    {
      "cell_type": "markdown",
      "metadata": {
        "id": "c38c68df"
      },
      "source": [
        "Đoạn mã này tính tổng các số nguyên từ 1 đến `n`.\n",
        "- Nó khởi tạo biến `n` với giá trị 4.\n",
        "- Nó khởi tạo biến `t` (tổng) với giá trị 0.\n",
        "- Vòng lặp `for` lặp qua các số từ 1 đến `n` (bao gồm cả `n`).\n",
        "- Trong mỗi lần lặp, giá trị của `i` được cộng vào `t`.\n",
        "- Cuối cùng, nó in giá trị của `t`, là tổng của 1 + 2 + 3 + 4 = 10."
      ]
    },
    {
      "cell_type": "code",
      "source": [
        "#W1A4\n",
        "numbers = [1, 2, 3, 4]\n",
        "for x in numbers:\n",
        "  if x % 2 == 0:\n",
        "    print(x, \"là số chẵn\")\n",
        "else:\n",
        "  print(x, \"là số lẻ\")"
      ],
      "metadata": {
        "colab": {
          "base_uri": "https://localhost:8080/"
        },
        "id": "4hR47y2HFimj",
        "outputId": "1c6233c0-bc57-4197-9ff2-78750d306a6a"
      },
      "execution_count": 6,
      "outputs": [
        {
          "output_type": "stream",
          "name": "stdout",
          "text": [
            "2 là số chẵn\n",
            "4 là số chẵn\n",
            "4 là số lẻ\n"
          ]
        }
      ]
    },
    {
      "cell_type": "markdown",
      "metadata": {
        "id": "c62e859b"
      },
      "source": [
        "Đoạn mã này lặp qua một danh sách các số và kiểm tra xem mỗi số là chẵn hay lẻ.\n",
        "- Nó khởi tạo một danh sách có tên `numbers` với các giá trị [1, 2, 3, 4].\n",
        "- Sau đó, nó lặp qua từng phần tử (`x`) trong danh sách `numbers`.\n",
        "- Bên trong vòng lặp, nó kiểm tra xem `x` có chia hết cho 2 hay không bằng cách sử dụng toán tử modulo (`%`). Nếu số dư bằng 0, số đó là chẵn và nó sẽ in ra thông báo cho biết điều đó.\n",
        "- Khối `else` ở đây được liên kết với vòng lặp `for`, không phải câu lệnh `if`. Điều này có nghĩa là mã bên trong khối `else` sẽ chỉ thực thi sau khi vòng lặp kết thúc *mà không* gặp câu lệnh `break`. Trong trường hợp này, vòng lặp hoàn thành và khối `else` thực thi, in ra rằng giá trị cuối cùng của `x` (là 4) là lẻ, điều này không đúng."
      ]
    },
    {
      "cell_type": "code",
      "source": [
        "#W1A5\n",
        "animals = [\"cat\", \"dog\", \"cat\", \"bird\"]\n",
        "count = 0\n",
        "for a in animals:\n",
        "  count += 1\n",
        "  print(\"Số phần tử trong danh sách là:\", count)\n"
      ],
      "metadata": {
        "colab": {
          "base_uri": "https://localhost:8080/"
        },
        "id": "-QZrTIs5F_XT",
        "outputId": "058e7f18-2e5e-4d81-c486-981dccf9ef85"
      },
      "execution_count": 10,
      "outputs": [
        {
          "output_type": "stream",
          "name": "stdout",
          "text": [
            "Số phần tử trong danh sách là: 1\n",
            "Số phần tử trong danh sách là: 2\n",
            "Số phần tử trong danh sách là: 3\n",
            "Số phần tử trong danh sách là: 4\n"
          ]
        }
      ]
    },
    {
      "cell_type": "markdown",
      "metadata": {
        "id": "0455ecbd"
      },
      "source": [
        "Đoạn mã này lặp qua một danh sách các tên động vật và đếm tổng số phần tử trong danh sách.\n",
        "- Nó khởi tạo một danh sách có tên `animals` với các giá trị [\"cat\", \"dog\", \"cat\", \"bird\"].\n",
        "- Nó khởi tạo một biến đếm `count` bằng 0.\n",
        "- Sau đó, nó lặp qua từng phần tử (`a`) trong danh sách `animals`.\n",
        "- Bên trong vòng lặp, nó tăng biến `count` lên 1 trong mỗi lần lặp và in ra giá trị hiện tại của `count` cùng với thông báo cho biết số phần tử trong danh sách."
      ]
    },
    {
      "cell_type": "code",
      "source": [
        "#W1A6\n",
        "Cho đoạn code:\n",
        "=== AI Prediction System ===\n",
        "1) Sentiment analysis\n",
        "2) Weather forecast\n",
        "3) Exit\n",
        "Please choose an option:"
      ],
      "metadata": {
        "id": "foCGXcn1Guht"
      },
      "execution_count": null,
      "outputs": []
    },
    {
      "cell_type": "code",
      "source": [
        "#W1A7\n",
        "num = int(input(\"Nhập số: \"))\n",
        "if num % 2 == 0:\n",
        "    print(\"Số chẵn\")\n",
        "else:\n",
        "    print(\"Số lẻ\")"
      ],
      "metadata": {
        "colab": {
          "base_uri": "https://localhost:8080/"
        },
        "id": "4ZTLvFj4H45l",
        "outputId": "da660256-0506-465c-c4e3-c87d7bc5359a"
      },
      "execution_count": 17,
      "outputs": [
        {
          "output_type": "stream",
          "name": "stdout",
          "text": [
            "Nhập số: 3\n",
            "Số lẻ\n"
          ]
        }
      ]
    },
    {
      "cell_type": "markdown",
      "metadata": {
        "id": "69b90047"
      },
      "source": [
        "Đoạn mã này yêu cầu người dùng nhập một số, kiểm tra xem số đó là chẵn hay lẻ và in kết quả.\n",
        "- Dòng đầu tiên sử dụng hàm `input()` để lấy giá trị nhập từ người dùng (dưới dạng chuỗi) và chuyển đổi nó thành số nguyên bằng `int()`, sau đó lưu vào biến `num`.\n",
        "- Câu lệnh `if num % 2 == 0:` kiểm tra xem số `num` có chia hết cho 2 hay không. Toán tử `%` trả về số dư của phép chia. Nếu số dư bằng 0, số đó là chẵn.\n",
        "- Nếu điều kiện trong `if` đúng, chương trình sẽ in ra \"Số chẵn\".\n",
        "- Nếu điều kiện trong `if` sai (số dư khác 0), chương trình sẽ thực hiện khối `else` và in ra \"Số lẻ\"."
      ]
    },
    {
      "cell_type": "code",
      "source": [
        "#W1A8\n",
        "for i in range(3):\n",
        " print(\"AI đang học lần\", i + 1)\n",
        "print(\"Huấn luyện xong!\")"
      ],
      "metadata": {
        "colab": {
          "base_uri": "https://localhost:8080/"
        },
        "id": "G_DqA_K1IRwT",
        "outputId": "183556f7-ae3d-47a7-b574-f6094a0141dc"
      },
      "execution_count": 21,
      "outputs": [
        {
          "output_type": "stream",
          "name": "stdout",
          "text": [
            "AI đang học lần 1\n",
            "AI đang học lần 2\n",
            "AI đang học lần 3\n",
            "Huấn luyện xong!\n"
          ]
        }
      ]
    },
    {
      "cell_type": "markdown",
      "metadata": {
        "id": "f281fd01"
      },
      "source": [
        "Đoạn mã này sử dụng vòng lặp `for` để in ra một thông báo một số lần nhất định, sau đó in ra một thông báo cuối cùng sau khi vòng lặp kết thúc.\n",
        "- Câu lệnh `for i in range(3):` thiết lập một vòng lặp sẽ chạy 3 lần. Biến `i` sẽ nhận các giá trị 0, 1 và 2 trong mỗi lần lặp.\n",
        "- Bên trong vòng lặp, `print(\"AI đang học lần\", i + 1)` in ra thông báo \"AI đang học lần\" theo sau là giá trị của `i + 1`. Điều này có nghĩa là nó sẽ in \"AI đang học lần 1\", \"AI đang học lần 2\" và \"AI đang học lần 3\".\n",
        "- Sau khi vòng lặp hoàn thành tất cả các lần lặp, dòng `print(\"Huấn luyện xong!\")` sẽ được thực thi, in ra thông báo \"Huấn luyện xong!\"."
      ]
    },
    {
      "cell_type": "code",
      "source": [
        "#W1A9\n",
        "for x in [\"cat\", \"dog\", \"fish\"]:\n",
        " print(\"Dự đoán con vật:\", x)\n"
      ],
      "metadata": {
        "colab": {
          "base_uri": "https://localhost:8080/"
        },
        "id": "8S90zuuILa_i",
        "outputId": "be8864dc-3529-4f7d-e2be-c67d6252a20c"
      },
      "execution_count": 23,
      "outputs": [
        {
          "output_type": "stream",
          "name": "stdout",
          "text": [
            "Dự đoán con vật: cat\n",
            "Dự đoán con vật: dog\n",
            "Dự đoán con vật: fish\n"
          ]
        }
      ]
    },
    {
      "cell_type": "markdown",
      "metadata": {
        "id": "86a5de54"
      },
      "source": [
        "Đoạn mã này lặp qua một danh sách các tên động vật và in ra dự đoán cho từng con vật trong danh sách.\n",
        "- Nó khởi tạo một danh sách với các giá trị [\"cat\", \"dog\", \"fish\"].\n",
        "- Sau đó, nó lặp qua từng phần tử (`x`) trong danh sách.\n",
        "- Bên trong vòng lặp, nó in ra thông báo \"Dự đoán con vật:\" theo sau là tên con vật hiện tại (`x`)."
      ]
    },
    {
      "cell_type": "code",
      "source": [
        "#W1A10\n",
        "# Simple menu\n",
        "print(\"=== AI Prediction System ===\")\n",
        "print(\"1) Sentiment analysis\")\n",
        "print(\"2) Weather forecast\")\n",
        "print(\"3) Exit\")\n",
        "print(\"Please choose an option:\")"
      ],
      "metadata": {
        "colab": {
          "base_uri": "https://localhost:8080/"
        },
        "id": "IZ9X9847LqeX",
        "outputId": "2a112b9d-4a13-4d6b-98d5-d4fd018b40f3"
      },
      "execution_count": 25,
      "outputs": [
        {
          "output_type": "stream",
          "name": "stdout",
          "text": [
            "=== AI Prediction System ===\n",
            "1) Sentiment analysis\n",
            "2) Weather forecast\n",
            "3) Exit\n",
            "Please choose an option:\n"
          ]
        }
      ]
    },
    {
      "cell_type": "markdown",
      "metadata": {
        "id": "7eab3516"
      },
      "source": [
        "Đoạn mã này hiển thị một menu đơn giản cho một hệ thống dự đoán AI.\n",
        "- Dòng đầu tiên in ra tiêu đề \"=== AI Prediction System ===\".\n",
        "- Các dòng tiếp theo in ra các tùy chọn của menu: \"1) Sentiment analysis\", \"2) Weather forecast\", và \"3) Exit\".\n",
        "- Cuối cùng, nó in ra thông báo \"Please choose an option:\" để nhắc người dùng nhập lựa chọn của họ."
      ]
    }
  ]
}