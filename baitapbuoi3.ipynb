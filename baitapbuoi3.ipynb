{
  "nbformat": 4,
  "nbformat_minor": 0,
  "metadata": {
    "colab": {
      "provenance": []
    },
    "kernelspec": {
      "name": "python3",
      "display_name": "Python 3"
    },
    "language_info": {
      "name": "python"
    }
  },
  "cells": [
    {
      "cell_type": "code",
      "source": [
        "#Bài 1:\n",
        "def nguoc(a):\n",
        "    b = 0\n",
        "    while a > 0:\n",
        "        b = b * 10 + a % 10\n",
        "        a = a // 10\n",
        "    print(b)\n",
        "a = int(input(\"Nhập số: \"))\n",
        "nguoc(a)\n",
        "\n"
      ],
      "metadata": {
        "id": "Qpv2vmtIRpO7"
      },
      "execution_count": null,
      "outputs": []
    },
    {
      "cell_type": "code",
      "source": [
        "#Bài 2:\n",
        "a,b = map(int,input(\"Nhập a,b : \").split())\n",
        "a = a ^ b\n",
        "b = a ^ b\n",
        "a = a ^ b\n",
        "print(a,b)"
      ],
      "metadata": {
        "id": "aYEs3nLgbGdz"
      },
      "execution_count": null,
      "outputs": []
    },
    {
      "cell_type": "code",
      "source": [
        "#Bài 3:\n",
        "n = int(input(\"Nhập a : \"))\n",
        "if n & (n-1) == 0:\n",
        "  print(\"Đây là lũy thừa của 2 \")\n",
        "else:\n",
        "  print(\"Đây không phải lũy thừa của hai\")"
      ],
      "metadata": {
        "id": "NZtT2iO9rr6W"
      },
      "execution_count": null,
      "outputs": []
    },
    {
      "cell_type": "code",
      "source": [
        "#Bài 4:\n",
        "m,n = map(int,input(\"Nhập m,n :\").split())\n",
        "print(m//n)"
      ],
      "metadata": {
        "id": "CtGXtMNfs3zl"
      },
      "execution_count": null,
      "outputs": []
    },
    {
      "cell_type": "code",
      "source": [
        "#Bài 5:\n",
        "m,n = map(int,input(\"Nhập m,n : \").split())\n",
        "print(m//n+1)"
      ],
      "metadata": {
        "id": "ikDmeuyISZpL"
      },
      "execution_count": null,
      "outputs": []
    },
    {
      "cell_type": "code",
      "source": [
        "#Bài 6: Even and Odd\n",
        "x = int(input(\"Nhập x : \"))\n",
        "if x % 2 == 0:\n",
        "  print(\"Even\")\n",
        "else:\n",
        "  print(\"Odd\")"
      ],
      "metadata": {
        "id": "WL5X371KTD53"
      },
      "execution_count": null,
      "outputs": []
    },
    {
      "cell_type": "code",
      "source": [
        "#Bài 7:Check negative numbers\n",
        "a = int(input(\"Nhập a : \"))\n",
        "b = int(input(\"Nhập b : \"))\n",
        "if a < 0 and b < 0:\n",
        "  print(\"Yes\")\n",
        "else:\n",
        "  print(\"No\")"
      ],
      "metadata": {
        "id": "VymuAScxTdbz"
      },
      "execution_count": null,
      "outputs": []
    },
    {
      "cell_type": "code",
      "source": [
        "#Bài 8:Longer string\n",
        "a = input(\"Nhập chuỗi a : \")\n",
        "b = input(\"Nhập chuỗi b : \")\n",
        "if len(a) > len(b):\n",
        "  print(\"True\")\n",
        "else:\n",
        "  print(\"False\")"
      ],
      "metadata": {
        "id": "T1L1WPdJULqi"
      },
      "execution_count": null,
      "outputs": []
    },
    {
      "cell_type": "code",
      "source": [
        "#Bài 9:Triangle\n",
        "a,b,c = map(int,input(\"Nhập a,b,c :\").split())\n",
        "if a + b > c and a + c > b and b + c > a:\n",
        "  print(\"Yes\")\n",
        "else:\n",
        "  print(\"No\")"
      ],
      "metadata": {
        "id": "wfTt6AUuV-dr"
      },
      "execution_count": null,
      "outputs": []
    },
    {
      "cell_type": "code",
      "source": [
        "#Bài 10: Largest number\n",
        "a,b,c,d = map(int,input(\"Nhập a,b,c,d : \").split())\n",
        "if a >= b and a >= c and a >= d:\n",
        "  print(f\"Số lớn nhất là :{a}\")\n",
        "elif b >= a and b >= c and b >= d:\n",
        "  print(f\"Số lớn nhất là :{b}\")\n",
        "elif c >= a and c >= b and c >= d:\n",
        "  print(f\"Số lớn nhất là :{c}\")\n",
        "else:\n",
        "  print(f\"Số lớn nhất là :{d}\")"
      ],
      "metadata": {
        "id": "-2SMk4Z0XfwO"
      },
      "execution_count": null,
      "outputs": []
    },
    {
      "cell_type": "code",
      "source": [
        "#Bài 11:Phân loại tam giác\n",
        "a,b,c = map(int,input(\"Nhập a,b,c :\").split())\n",
        "if a + b > c and a + c > b and b + c > a:\n",
        "  if a == b == c:\n",
        "    print(\"Tam giác đều\")\n",
        "  elif a == b or a == c or b == c:\n",
        "    print(\"Tam giác cân\")\n",
        "  else:\n",
        "    print(\"Tam giác thường\")\n",
        "else:\n",
        "  print(\"Không phải tam giác\")"
      ],
      "metadata": {
        "id": "EM_-q0A9am6k"
      },
      "execution_count": null,
      "outputs": []
    },
    {
      "cell_type": "code",
      "source": [
        "#Bài 12:Kiểm tra năm nhuận\n",
        "n = int(input(\"Nhập n : \"))\n",
        "if (n % 4 == 0 and n % 100 != 0) or n % 400 == 0:\n",
        "  print(\"Yes\")\n",
        "else:\n",
        "  print(\"No\")"
      ],
      "metadata": {
        "id": "67g-moTTeZoI"
      },
      "execution_count": null,
      "outputs": []
    },
    {
      "cell_type": "code",
      "source": [
        "#Bài 13:\n",
        "a = int(input(\"Nhập số điện : \"))\n",
        "if 0 <= a <= 50:\n",
        "  print(\"Số tiền điện là : \", a * 1500)\n",
        "elif 51 <= a <= 100:\n",
        "  print(\"Số tiền điện là : \" , 50 * 1500 + (a - 50) * 2000)\n",
        "else:\n",
        "  print(\"Số tiền điện là : \", 50 * 1500 + 50 * 2000 + (a - 100) *3000)"
      ],
      "metadata": {
        "id": "RA3rwac5gcWx"
      },
      "execution_count": null,
      "outputs": []
    },
    {
      "cell_type": "code",
      "source": [
        "#Bài 14:Giải phương trình bậc nhất\n",
        "a,b = map(float,input(\"Nhập a,b :\").split())\n",
        "if a != 0 and b != 0:\n",
        "  print(f\"Nghiệm của phương trình {a}x + {b} = 0 là : \", f\"{(-b / a):.2f}\")\n",
        "elif a == 0 and b != 0:\n",
        "  print(f\"Phương trình {a}x + {b} = 0 vô nghiệm \")\n",
        "else:\n",
        "  print(f\"Phương trình {a}x + {b} = 0 có vô số nghiệm \")"
      ],
      "metadata": {
        "id": "_OlqqAdGj6LK"
      },
      "execution_count": null,
      "outputs": []
    },
    {
      "cell_type": "code",
      "source": [
        "#Bài 15: Xếp loại học lực\n",
        "a = float(input(\"Nhập điểm trung bình : \"))\n",
        "if a >= 8:\n",
        "  print(\"Học sinh Giỏi\")\n",
        "elif a >= 6.5:\n",
        "  print(\"Học sinh Khá\")\n",
        "elif a >= 5:\n",
        "  print(\"Học sinh trung bình\")\n",
        "else:\n",
        "  print(\"Học sinh yếu\")"
      ],
      "metadata": {
        "id": "XqeeRPgZmzcM"
      },
      "execution_count": null,
      "outputs": []
    },
    {
      "cell_type": "code",
      "source": [
        "#Bài 16: Rounding\n",
        "x = float(input(\"Nhập số thực: \"))\n",
        "n = int(x)\n",
        "if n <= 0 or n == x:\n",
        "  len_= n\n",
        "else:\n",
        "  len_= n + 1\n",
        "if n >= 0 or n == x:\n",
        "  xuong = n\n",
        "else:\n",
        "  xuong = n - 1\n",
        "if x - n >= 0.5 or x - n <= -0.5:\n",
        "  gannhat = xuong\n",
        "else:\n",
        "  gannhat = n\n",
        "print(len_ , xuong, gannhat)"
      ],
      "metadata": {
        "id": "XYpTnw5roLk-"
      },
      "execution_count": null,
      "outputs": []
    },
    {
      "cell_type": "code",
      "source": [
        "#Bài 17: Phân loại tam giác\n",
        "a,b,c = map(int,input(\"Nhập a,b,c :\").split())\n",
        "if a + b > c and a + c > b and b + c > a:\n",
        "  if a == b == c:\n",
        "    print(\"Tam giác đều\")\n",
        "  elif a == b or a == c or b == c:\n",
        "    print(\"Tam giác cân\")\n",
        "  else:\n",
        "    print(\"Tam giác thường\")\n",
        "else:\n",
        "  print(\"Không phải tam giác\")"
      ],
      "metadata": {
        "id": "mNrLqNtGJHWf"
      },
      "execution_count": null,
      "outputs": []
    }
  ]
}