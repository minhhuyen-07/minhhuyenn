{
  "nbformat": 4,
  "nbformat_minor": 0,
  "metadata": {
    "colab": {
      "provenance": []
    },
    "kernelspec": {
      "name": "python3",
      "display_name": "Python 3"
    },
    "language_info": {
      "name": "python"
    }
  },
  "cells": [
    {
      "cell_type": "code",
      "execution_count": null,
      "metadata": {
        "id": "mH-LYrWzhFFl"
      },
      "outputs": [],
      "source": [
        "#W2A1\n",
        "print(\"Hello World!\")"
      ]
    },
    {
      "cell_type": "code",
      "source": [
        "#W2A2\n",
        "Tên = input(\"Nhập tên của bạn : \")\n",
        "print(\"Xin chào\",Tên)"
      ],
      "metadata": {
        "id": "Z__vCuW23Zjb"
      },
      "execution_count": null,
      "outputs": []
    },
    {
      "cell_type": "code",
      "source": [
        "#W2A3\n",
        "a,b= map(int,input().split())\n",
        "print(\"Tổng của hai số:\",a+b)\n",
        "print(\"Hiệu của hai số:\",a-b)\n",
        "print(\"Tích của hai số:\",a*b)\n",
        "print(\"Thương của hai số\", f\"{a/b:.2f}\")\n",
        "print(\"Phần dư của hai số\",a%b)"
      ],
      "metadata": {
        "id": "WmjK2CjAAuMO"
      },
      "execution_count": null,
      "outputs": []
    },
    {
      "cell_type": "code",
      "source": [
        "#W2A4\n",
        "a1,b1,c1,a2,b2,a3=map(int,input().split())\n",
        "tb = ((a1+b1+c1)+(a2+b2)*2+a3*3)/10\n",
        "print(\"Điểm trung bình là:\",f\"{tb:.1f}\")"
      ],
      "metadata": {
        "id": "mcvxHsvmDjGN"
      },
      "execution_count": null,
      "outputs": []
    },
    {
      "cell_type": "code",
      "source": [
        "#W2A5\n",
        "a,b=map(int,input().split())\n",
        "print(\"Lũy thừa:\",a**b)"
      ],
      "metadata": {
        "id": "7cqu8DVSDlKg"
      },
      "execution_count": null,
      "outputs": []
    },
    {
      "cell_type": "code",
      "source": [
        "#W2A6\n",
        "a = input()\n",
        "print(chr(ord(a)-32))"
      ],
      "metadata": {
        "id": "xsnSkTwjDnB4"
      },
      "execution_count": null,
      "outputs": []
    },
    {
      "cell_type": "code",
      "source": [
        "#W2A7\n",
        "print(\"A=\",((13**2)*3)+5,\"B=\",13**2*3+5)"
      ],
      "metadata": {
        "id": "7fcKUBsZDnVb",
        "colab": {
          "base_uri": "https://localhost:8080/"
        },
        "outputId": "76946450-0d93-42d2-dff1-acd2e8b22979"
      },
      "execution_count": null,
      "outputs": [
        {
          "output_type": "stream",
          "name": "stdout",
          "text": [
            "A= 512 B= 512\n"
          ]
        }
      ]
    },
    {
      "cell_type": "code",
      "source": [
        "#W2A8\n",
        "a = float(input(\"Nhập độ C:\"))\n",
        "C = 9/5*a+32\n",
        "print(\"Chuyển sang độ F là:\",f\"{C:.2f}\")"
      ],
      "metadata": {
        "id": "-owBy-DxDnkw",
        "colab": {
          "base_uri": "https://localhost:8080/"
        },
        "outputId": "54741018-e8e6-4c22-d737-012966fe4e01"
      },
      "execution_count": null,
      "outputs": [
        {
          "output_type": "stream",
          "name": "stdout",
          "text": [
            "Nhập độ C:5\n",
            "Chuyển sang độ F là: 41.00\n"
          ]
        }
      ]
    },
    {
      "cell_type": "code",
      "source": [
        "#W2A9\n",
        "T=float(input(\"Nhập số tiền ban đầu :\"))\n",
        "Tien = 1.4*T+10\n",
        "print(\"Tổng số tiền phải trả là:\",f\"{Tien:.2f}\")"
      ],
      "metadata": {
        "id": "m6vTuGXwZvHs",
        "colab": {
          "base_uri": "https://localhost:8080/"
        },
        "outputId": "2047d27b-2a2a-438f-80d5-54aab8152810"
      },
      "execution_count": null,
      "outputs": [
        {
          "output_type": "stream",
          "name": "stdout",
          "text": [
            "Nhập số tiền ban đầu :4.5\n",
            "Tổng số tiền phải trả là: 16.30\n"
          ]
        }
      ]
    },
    {
      "cell_type": "code",
      "source": [
        "#W2A10\n",
        "a,b,c = input(\"Nhập tên :\").split()\n",
        "print(c,b,a)"
      ],
      "metadata": {
        "id": "tpB3qE3XD14t"
      },
      "execution_count": null,
      "outputs": []
    },
    {
      "cell_type": "code",
      "source": [
        "#W2A11\n",
        "a,b = map(int,input(\"Nhập số giờ và số phút\").split())\n",
        "print(\"Giờ sang giây:\",a*3600,\"Phút sang giây:\",b*60)"
      ],
      "metadata": {
        "id": "EjGb1bPjD185"
      },
      "execution_count": null,
      "outputs": []
    },
    {
      "cell_type": "code",
      "source": [
        "#W2A12\n",
        "a = int(input(\"Nhập độ dài cạnh của rubic:\"))\n",
        "print(\"Số miếng dán cần thiết là :\",a*36)"
      ],
      "metadata": {
        "id": "GS_VnWfXD1_m"
      },
      "execution_count": null,
      "outputs": []
    },
    {
      "cell_type": "code",
      "source": [
        "#W2A13\n",
        "a,b = map(int,input(\"Nhập hai số nguyên dương a và b:\").split())\n",
        "print(\"Hàng đơn vị của tích a và b là\",(a*b)%10)\n"
      ],
      "metadata": {
        "id": "3RgzGckRD2CL"
      },
      "execution_count": null,
      "outputs": []
    },
    {
      "cell_type": "code",
      "source": [
        "#W2A14\n",
        "a,b = map(int,input(\"Nhập hai số a và b :\").split())\n",
        "a,b = b,a\n",
        "print(a,b)"
      ],
      "metadata": {
        "id": "QMtSR60JD2Eq"
      },
      "execution_count": null,
      "outputs": []
    },
    {
      "cell_type": "code",
      "source": [
        "#W2A15\n",
        "n = int(input(\"Nhập số nguyên dương n: \"))\n",
        "so_sao = 6 * n * (n - 1) + 1\n",
        "print(\"Số sao thứ\", n, \"là:\", so_sao)\n"
      ],
      "metadata": {
        "id": "6Z8DRh1wD2HM"
      },
      "execution_count": null,
      "outputs": []
    },
    {
      "cell_type": "code",
      "source": [
        "#W2A16\n",
        "print(\"Spring\\nSummer\\nAutumn\\nWinter\")"
      ],
      "metadata": {
        "id": "5kPORRBBD3O2"
      },
      "execution_count": null,
      "outputs": []
    },
    {
      "cell_type": "code",
      "source": [
        "#WA17\n",
        "for i in range(1, 6, 2):\n",
        "  print(\"*\"* i )"
      ],
      "metadata": {
        "id": "NQHiN9FVCp1m"
      },
      "execution_count": null,
      "outputs": []
    },
    {
      "cell_type": "code",
      "source": [
        "#W2A18\n",
        "print(\"###  # #   ### ###\")\n",
        "print(\" #   #  #   #   #\")\n",
        "print(\" #   #  #   #   # \")\n",
        "print(\" #   #  #   #   #\")\n",
        "print(\" #   # #    #   #\")"
      ],
      "metadata": {
        "id": "WqExwPZaD3bf"
      },
      "execution_count": null,
      "outputs": []
    },
    {
      "cell_type": "code",
      "source": [
        "#W2A19\n",
        "print(\"Monday\\nTuesday\\nWednesday\\nThursday\\nFriday\\nSaturday\\nSunday\")"
      ],
      "metadata": {
        "id": "ZW9v8gUmD3iv"
      },
      "execution_count": null,
      "outputs": []
    },
    {
      "cell_type": "code",
      "source": [
        "#W2A20\n",
        "print(\"January\\nFebruary\\nMarch\\nApril\\nMay\\nJune\\nJuly\\nAugust\\nSeptember\\nOctober\\nNovember\\nDecember\")"
      ],
      "metadata": {
        "id": "lyBEvg-kD3pf"
      },
      "execution_count": null,
      "outputs": []
    },
    {
      "cell_type": "code",
      "source": [
        "#W2A21\n",
        "for i in range (1,11):\n",
        " print(\"Hello, world\")"
      ],
      "metadata": {
        "id": "KShzBXjOD3wU"
      },
      "execution_count": null,
      "outputs": []
    }
  ]
}